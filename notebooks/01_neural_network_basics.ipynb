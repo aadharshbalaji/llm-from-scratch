{
 "cells": [
  {
   "cell_type": "markdown",
   "id": "1c442930",
   "metadata": {},
   "source": [
    "# 1. Import Modules and Prepare sample data"
   ]
  },
  {
   "cell_type": "code",
   "execution_count": 207,
   "id": "656aa479",
   "metadata": {},
   "outputs": [],
   "source": [
    "import torch\n",
    "import torch.nn as nn\n",
    "import torch.optim as optim\n",
    "from collections import Counter\n",
    "import numpy as np"
   ]
  },
  {
   "cell_type": "code",
   "execution_count": 208,
   "id": "939e2ae8",
   "metadata": {},
   "outputs": [],
   "source": [
    "text = \"hello world. hello machine learning. hello neural networks.\" # In General Known as Corpus | Vocabulary | Dictionary"
   ]
  },
  {
   "cell_type": "markdown",
   "id": "6998de5c",
   "metadata": {},
   "source": [
    "# 2. Tokenization"
   ]
  },
  {
   "cell_type": "markdown",
   "id": "7356cae4",
   "metadata": {},
   "source": [
    "Converting raw text into a numerical format that neural networks can understand.\n",
    "By creating a vocabulary and mapping words to integers, we prepare the data for training a next-token prediction model.\n",
    "\n",
    "1. Tokenize text into words → words\n",
    "2. Build a vocabulary of unique words → vocab\n",
    "3. Map words to IDs → word_to_idx\n",
    "4. Map IDs back to words → idx_to_word\n",
    "5. Finally converting Input Text to TokenId's "
   ]
  },
  {
   "cell_type": "code",
   "execution_count": 209,
   "id": "f8ffbe72",
   "metadata": {},
   "outputs": [],
   "source": [
    "words = text.lower().split()\n",
    "vocab = sorted(set(words))\n",
    "word_to_idx = {word: idx for idx, word in enumerate(vocab)}\n",
    "idx_to_word = {idx: word for word, idx in word_to_idx.items()}\n",
    "token_ids = [word_to_idx[w] for w in words]"
   ]
  },
  {
   "cell_type": "markdown",
   "id": "03c66f8f",
   "metadata": {},
   "source": [
    "# 3. Create training data"
   ]
  },
  {
   "cell_type": "markdown",
   "id": "2687d3ff",
   "metadata": {},
   "source": [
    "Preparing input-output pairs for next-token prediction by sliding a window of size 1 over the tokenized text.\n",
    "\n",
    "  1. Take each token as input (X) and the next token as target (y).\n",
    "  2. Convert X and y lists into PyTorch tensors for training.\n",
    "  3. One-hot encode the input tokens so the network receives numerical vectors:\n",
    "      * Length of each vector = vocabulary size\n",
    "      * Only the index corresponding to the token is set to 1"
   ]
  },
  {
   "cell_type": "markdown",
   "id": "b5b5b222",
   "metadata": {},
   "source": [
    "3.1 Input (X) and Target (y) Creation Using Sliding Window"
   ]
  },
  {
   "cell_type": "code",
   "execution_count": 210,
   "id": "54cfe7fc",
   "metadata": {},
   "outputs": [],
   "source": [
    "X = []\n",
    "y = []\n",
    "\n",
    "for i in range(len(token_ids) - 1):\n",
    "    X.append(token_ids[i])\n",
    "    y.append(token_ids[i + 1])\n",
    "\n",
    "X = torch.tensor(X)\n",
    "y = torch.tensor(y)"
   ]
  },
  {
   "cell_type": "markdown",
   "id": "07b1fb5b",
   "metadata": {},
   "source": [
    "3.2 One-hot encode inputs"
   ]
  },
  {
   "cell_type": "code",
   "execution_count": 211,
   "id": "92b1d672",
   "metadata": {},
   "outputs": [],
   "source": [
    "input_size = len(vocab)\n",
    "X_onehot = torch.zeros(len(X), input_size)\n",
    "X_onehot[torch.arange(len(X)), X] = 1\n"
   ]
  },
  {
   "cell_type": "markdown",
   "id": "6df7fbca",
   "metadata": {},
   "source": [
    "# 4. Define Model"
   ]
  },
  {
   "cell_type": "markdown",
   "id": "d4d80ad1",
   "metadata": {},
   "source": [
    "4.1 A simple Feedforward neural network in PyTorch for next-token prediction."
   ]
  },
  {
   "cell_type": "code",
   "execution_count": 212,
   "id": "20b5b289",
   "metadata": {},
   "outputs": [],
   "source": [
    "hidden_size = 16\n",
    "output_size = len(vocab)\n",
    "\n",
    "class FeedforwardNN(nn.Module):\n",
    "    def __init__(self, input_size, hidden_size, output_size):\n",
    "        super(FeedforwardNN, self).__init__()\n",
    "        self.fc1 = nn.Linear(input_size, hidden_size)\n",
    "        self.fc2 = nn.Linear(hidden_size, output_size)\n",
    "\n",
    "    def forward(self, x):\n",
    "        x = torch.relu(self.fc1(x))\n",
    "        x = self.fc2(x)\n",
    "        return x \n",
    "\n",
    "model = FeedforwardNN(input_size, hidden_size, output_size)\n"
   ]
  },
  {
   "cell_type": "markdown",
   "id": "0cda2597",
   "metadata": {},
   "source": [
    "# Training"
   ]
  },
  {
   "cell_type": "markdown",
   "id": "57a22453",
   "metadata": {},
   "source": [
    "Optimize the model to accurately predict the next token.\n",
    "\n",
    "1. Loss Function: Use CrossEntropyLoss to compare predicted logits with true token IDs.\n",
    "2. Optimizer: Use Adam to update network weights via backpropagation.\n",
    "3. Training Loop:\n",
    "    * Zero gradients for each iteration\n",
    "    * Forward pass to compute predictions\n",
    "    * Compute loss and perform backpropagation\n",
    "    * Update weights\n",
    "4. Repeat for multiple epochs until the loss decreases and the model learns token patterns."
   ]
  },
  {
   "cell_type": "code",
   "execution_count": 213,
   "id": "a7ead4cd",
   "metadata": {},
   "outputs": [
    {
     "name": "stdout",
     "output_type": "stream",
     "text": [
      "Epoch 100/500, Loss: 0.4787\n",
      "Epoch 200/500, Loss: 0.4731\n",
      "Epoch 300/500, Loss: 0.4719\n",
      "Epoch 400/500, Loss: 0.4715\n",
      "Epoch 500/500, Loss: 0.4713\n"
     ]
    }
   ],
   "source": [
    "criterion = nn.CrossEntropyLoss()\n",
    "optimizer = optim.Adam(model.parameters(), lr=0.01)\n",
    "\n",
    "epochs = 500\n",
    "for epoch in range(epochs):\n",
    "    optimizer.zero_grad()\n",
    "    outputs = model(X_onehot)\n",
    "    loss = criterion(outputs, y)\n",
    "    loss.backward()\n",
    "    optimizer.step()\n",
    "\n",
    "    if (epoch+1) % 100 == 0:\n",
    "        print(f'Epoch {epoch+1}/{epochs}, Loss: {loss.item():.4f}')\n"
   ]
  },
  {
   "cell_type": "markdown",
   "id": "99fc47e1",
   "metadata": {},
   "source": [
    "# 6. Prediction"
   ]
  },
  {
   "cell_type": "markdown",
   "id": "683d034d",
   "metadata": {},
   "source": [
    "Predict the next word for 'hello'. Generate predictions from the trained model.\n",
    "\n",
    "1. Prepare Input: Convert a word to its one-hot vector representation.\n",
    "2. Forward Pass: Feed the input into the trained network.\n",
    "3. Prediction: Take the argmax of the output logits to get the predicted token ID.\n",
    "4. Map Back to Word: Convert the predicted token ID to its corresponding word using idx_to_word."
   ]
  },
  {
   "cell_type": "code",
   "execution_count": 214,
   "id": "64aed28c",
   "metadata": {},
   "outputs": [
    {
     "name": "stdout",
     "output_type": "stream",
     "text": [
      "Next word after 'hello' is 'neural'\n"
     ]
    }
   ],
   "source": [
    "input_word = \"hello\"\n",
    "input_idx = torch.tensor([word_to_idx[input_word]])\n",
    "input_onehot = torch.zeros(1, input_size)\n",
    "input_onehot[0, input_idx] = 1\n",
    "\n",
    "with torch.no_grad():\n",
    "    logits = model(input_onehot)\n",
    "    predicted_idx = torch.argmax(logits, dim=1).item()\n",
    "    print(f\"Next word after '{input_word}' is '{idx_to_word[predicted_idx]}'\")\n"
   ]
  }
 ],
 "metadata": {
  "kernelspec": {
   "display_name": ".venv",
   "language": "python",
   "name": "python3"
  },
  "language_info": {
   "codemirror_mode": {
    "name": "ipython",
    "version": 3
   },
   "file_extension": ".py",
   "mimetype": "text/x-python",
   "name": "python",
   "nbconvert_exporter": "python",
   "pygments_lexer": "ipython3",
   "version": "3.10.18"
  }
 },
 "nbformat": 4,
 "nbformat_minor": 5
}
