{
 "cells": [
  {
   "cell_type": "markdown",
   "id": "d491bcea",
   "metadata": {},
   "source": [
    "# Tokenization"
   ]
  },
  {
   "cell_type": "markdown",
   "id": "206b7965",
   "metadata": {},
   "source": [
    "# 2.1 Building a Simple Tokenizer - with regex | With Example"
   ]
  },
  {
   "cell_type": "code",
   "execution_count": 153,
   "id": "f90a96a2",
   "metadata": {},
   "outputs": [
    {
     "name": "stdout",
     "output_type": "stream",
     "text": [
      "Text : ['Hello', ',', 'world', '.', 'This', ',', 'is', 'a', 'test', '.', '?']\n"
     ]
    }
   ],
   "source": [
    "import re\n",
    "\n",
    "text = \"Hello, world. This, is a test.?\"\n",
    "\n",
    "result = re.split(r'([,.:;?_!\"()\\']|--|\\s)', text)\n",
    "result = [item for item in result if item.strip()]\n",
    "print(\"Text :\", result)\n"
   ]
  },
  {
   "cell_type": "markdown",
   "id": "e3551b39",
   "metadata": {},
   "source": [
    "# 2.2 Converting tokens into token IDs"
   ]
  },
  {
   "cell_type": "code",
   "execution_count": 154,
   "id": "20042c2d",
   "metadata": {},
   "outputs": [
    {
     "name": "stdout",
     "output_type": "stream",
     "text": [
      "Vocab Size :  9\n",
      "{',': 0, '.': 1, '?': 2, 'Hello': 3, 'This': 4, 'a': 5, 'is': 6, 'test': 7, 'world': 8}\n"
     ]
    }
   ],
   "source": [
    "all_words = sorted(set(result))\n",
    "vocab_size = len(all_words)\n",
    "vocab = {token:integer for integer,token in enumerate(all_words)}\n",
    "print(\"Vocab Size : \",vocab_size)\n",
    "print(vocab)"
   ]
  },
  {
   "cell_type": "markdown",
   "id": "81ee8f5a",
   "metadata": {},
   "source": [
    "# 2.3 Putting it now all together into a tokenizer class"
   ]
  },
  {
   "cell_type": "code",
   "execution_count": 155,
   "id": "6dd3edf8",
   "metadata": {},
   "outputs": [
    {
     "name": "stdout",
     "output_type": "stream",
     "text": [
      "Tokens Ids:  [3, 0, 8, 1, 4, 0, 6, 5, 7, 1, 2]\n",
      "Decoded Tokens:  Hello, world. This, is a test.?\n"
     ]
    }
   ],
   "source": [
    "class SimpleTokenizerV1:\n",
    "    def __init__(self, vocab):\n",
    "        self.str_to_int = vocab\n",
    "        self.int_to_str = {i:s for s,i in vocab.items()}\n",
    "    \n",
    "    def encode(self, text):\n",
    "        preprocessed = re.split(r'([,.:;?_!\"()\\']|--|\\s)', text)\n",
    "                                \n",
    "        preprocessed = [\n",
    "            item.strip() for item in preprocessed if item.strip()\n",
    "        ]\n",
    "        ids = [self.str_to_int[s] for s in preprocessed]\n",
    "        return ids\n",
    "        \n",
    "    def decode(self, ids):\n",
    "        text = \" \".join([self.int_to_str[i] for i in ids])\n",
    "        text = re.sub(r'\\s+([,.?!\"()\\'])', r'\\1', text)\n",
    "        return text\n",
    "\n",
    "\n",
    "\n",
    "tokenizer = SimpleTokenizerV1(vocab)\n",
    "ids = tokenizer.encode(text)\n",
    "print(\"Tokens Ids: \",ids)\n",
    "print(\"Decoded Tokens: \",tokenizer.decode(ids))"
   ]
  },
  {
   "cell_type": "markdown",
   "id": "b96e483c",
   "metadata": {},
   "source": [
    "# 2.4 Adding special context tokens \n",
    "* It's useful to add some \"special\" tokens for unknown words and to denote the end of a text"
   ]
  },
  {
   "cell_type": "code",
   "execution_count": 156,
   "id": "ce7d4688",
   "metadata": {},
   "outputs": [
    {
     "name": "stdout",
     "output_type": "stream",
     "text": [
      "Text : ['Hello', ',', 'do', 'you', 'like', 'tea', '?', '<|endoftext|>', 'In', 'the', 'sunlit', 'terraces', 'of', 'the', 'palace', '.']\n",
      "Vocab Size - 16\n",
      "Tokens Ids :  [4, 0, 6, 14, 7, 11, 3, 15, 5, 13, 10, 12, 8, 13, 9, 1]\n",
      "Decoded Tokens : Hello, do you like tea? <|endoftext|> In the sunlit terraces of the palace.\n"
     ]
    }
   ],
   "source": [
    "text1 = \"Hello, do you like tea?\"\n",
    "text2 = \"In the sunlit terraces of the palace.\"\n",
    "text = \" <|endoftext|> \".join((text1, text2))\n",
    "\n",
    " # Repeating above steps again below\n",
    "result = re.split(r'([,.:;?_!\"()\\']|--|\\s)', text)\n",
    "result = [item for item in result if item.strip()]\n",
    "print(\"Text :\", result)\n",
    "\n",
    "\n",
    "all_tokens = sorted(list(set(result)))\n",
    "all_tokens.extend([\"<|endoftext|>\", \"<|unk|>\"])\n",
    "vocab_size = len(all_tokens)\n",
    "vocab = {token:integer for integer,token in enumerate(all_tokens)}\n",
    "print(\"Vocab Size -\",len(vocab.items()))\n",
    "\n",
    "\n",
    "class SimpleTokenizerV2:\n",
    "    def __init__(self, vocab):\n",
    "        self.str_to_int = vocab\n",
    "        self.int_to_str = { i:s for s,i in vocab.items()}\n",
    "    \n",
    "    def encode(self, text):\n",
    "        preprocessed = re.split(r'([,.:;?_!\"()\\']|--|\\s)', text)\n",
    "        preprocessed = [item.strip() for item in preprocessed if item.strip()]\n",
    "        preprocessed = [\n",
    "            item if item in self.str_to_int \n",
    "            else \"<|unk|>\" for item in preprocessed\n",
    "        ]\n",
    "\n",
    "        ids = [self.str_to_int[s] for s in preprocessed]\n",
    "        return ids\n",
    "        \n",
    "    def decode(self, ids):\n",
    "        text = \" \".join([self.int_to_str[i] for i in ids])\n",
    "        text = re.sub(r'\\s+([,.:;?!\"()\\'])', r'\\1', text)\n",
    "        return text\n",
    "    \n",
    "\n",
    "\n",
    "tokenizer = SimpleTokenizerV2(vocab)\n",
    "print(\"Tokens Ids : \", tokenizer.encode(text))\n",
    "print(\"Decoded Tokens :\",tokenizer.decode(tokenizer.encode(text)))\n"
   ]
  },
  {
   "cell_type": "markdown",
   "id": "52dd8c1c",
   "metadata": {},
   "source": [
    "\n",
    "\n",
    "# 2.5 BytePair encoding \n",
    "* GPT-2 used BytePair encoding (BPE) as its tokenizer\n",
    "* it allows the model to break down words that aren't in its predefined vocabulary into smaller subword units or even individual characters, enabling it to handle out-of-vocabulary words\n",
    "* For instance, if GPT-2's vocabulary doesn't have the word \"unfamiliarword,\" it might tokenize it as [\"unfam\", \"iliar\", \"word\"] or some other subword breakdown, depending on its trained BPE merges\n",
    "* In this chapter, we are using the BPE tokenizer from OpenAI's open-source tiktoken library,\n"
   ]
  },
  {
   "cell_type": "code",
   "execution_count": 157,
   "id": "55a602e0",
   "metadata": {},
   "outputs": [
    {
     "name": "stdout",
     "output_type": "stream",
     "text": [
      "tiktoken version: 0.11.0\n",
      "Tokens Ids :   [15496, 11, 466, 345, 588, 8887, 30, 220, 50256, 554, 262, 4252, 18250, 8812, 2114, 1659, 617, 34680, 27271, 13]\n",
      "Decoded Tokens : Hello, do you like tea? <|endoftext|> In the sunlit terracesof someunknownPlace.\n"
     ]
    }
   ],
   "source": [
    "import importlib\n",
    "import tiktoken\n",
    "\n",
    "print(\"tiktoken version:\", importlib.metadata.version(\"tiktoken\"))\n",
    "tokenizer = tiktoken.get_encoding(\"gpt2\")\n",
    "\n",
    "\n",
    "text = (\n",
    "    \"Hello, do you like tea? <|endoftext|> In the sunlit terraces\"\n",
    "    \"of someunknownPlace.\"\n",
    ")\n",
    "\n",
    "ids = tokenizer.encode(text, allowed_special={\"<|endoftext|>\"})\n",
    "print(\"Tokens Ids :  \", ids)\n",
    "print(\"Decoded Tokens :\",tokenizer.decode(ids))\n",
    "\n"
   ]
  },
  {
   "cell_type": "markdown",
   "id": "0e13d07a",
   "metadata": {},
   "source": [
    "# 2.6 Data sampling with a sliding window"
   ]
  },
  {
   "cell_type": "code",
   "execution_count": 158,
   "id": "9590eaf8",
   "metadata": {},
   "outputs": [
    {
     "name": "stdout",
     "output_type": "stream",
     "text": [
      "Tokens Ids :   [15496, 11, 466, 345, 588, 8887, 30, 220, 50256, 554, 262, 4252, 18250, 8812, 2114, 1659, 617, 34680, 27271, 13]\n",
      "\n",
      "\n",
      "x: [15496, 11, 466, 345]\n",
      "y:        [11, 466, 345, 588]\n",
      "\n",
      "\n",
      "[15496] ----> 11  ||  Hello ----> ,\n",
      "[15496, 11] ----> 466  ||  Hello, ---->  do\n",
      "[15496, 11, 466] ----> 345  ||  Hello, do ---->  you\n",
      "[15496, 11, 466, 345] ----> 588  ||  Hello, do you ---->  like\n"
     ]
    }
   ],
   "source": [
    "enc_sample = tokenizer.encode(text, allowed_special={\"<|endoftext|>\"})\n",
    "print(\"Tokens Ids :  \", enc_sample)\n",
    "context_size = 4\n",
    "\n",
    "x = enc_sample[:context_size]\n",
    "y = enc_sample[1:context_size+1]\n",
    "\n",
    "print(\"\\n\")\n",
    "print(f\"x: {x}\")\n",
    "print(f\"y:        {y}\")\n",
    "print(\"\\n\")\n",
    "for i in range(1, context_size+1):\n",
    "    context = enc_sample[:i]\n",
    "    desired = enc_sample[i]\n",
    "    print(context, \"---->\", desired, \" || \", tokenizer.decode(context), \"---->\", tokenizer.decode([desired]))\n"
   ]
  },
  {
   "cell_type": "markdown",
   "id": "4db8a8ed",
   "metadata": {},
   "source": [
    "* We implement a simple data loader that iterates over the input dataset and returns the inputs and targets shifted by one\n",
    "* Create dataset and dataloader that extract chunks from the input text dataset"
   ]
  },
  {
   "cell_type": "code",
   "execution_count": 159,
   "id": "b935c2e7",
   "metadata": {},
   "outputs": [
    {
     "name": "stdout",
     "output_type": "stream",
     "text": [
      "PyTorch version: 2.2.2\n",
      "Inputs:\n",
      " tensor([[15496,    11,   466,   345],\n",
      "        [  588,  8887,    30,   220],\n",
      "        [50256,   554,   262,  4252]])\n",
      "\n",
      "Targets:\n",
      " tensor([[   11,   466,   345,   588],\n",
      "        [ 8887,    30,   220, 50256],\n",
      "        [  554,   262,  4252, 18250]])\n"
     ]
    }
   ],
   "source": [
    "\n",
    "import torch\n",
    "print(\"PyTorch version:\", torch.__version__)\n",
    "\n",
    "\n",
    "from torch.utils.data import Dataset, DataLoader\n",
    "\n",
    "class GPTDatasetV1(Dataset):\n",
    "    def __init__(self, txt, tokenizer, max_length, stride):\n",
    "        self.input_ids = []\n",
    "        self.target_ids = []\n",
    "\n",
    "        # Tokenize the entire text\n",
    "        token_ids = tokenizer.encode(txt, allowed_special={\"<|endoftext|>\"})\n",
    "        assert len(token_ids) > max_length, \"Number of tokenized inputs must at least be equal to max_length+1\"\n",
    "\n",
    "        # Use a sliding window to chunk the book into overlapping sequences of max_length\n",
    "        for i in range(0, len(token_ids) - max_length, stride):\n",
    "            input_chunk = token_ids[i:i + max_length]\n",
    "            target_chunk = token_ids[i + 1: i + max_length + 1]\n",
    "            self.input_ids.append(torch.tensor(input_chunk))\n",
    "            self.target_ids.append(torch.tensor(target_chunk))\n",
    "\n",
    "    def __len__(self):\n",
    "        return len(self.input_ids)\n",
    "\n",
    "    def __getitem__(self, idx):\n",
    "        return self.input_ids[idx], self.target_ids[idx]\n",
    "    \n",
    "def create_dataloader_v1(txt, batch_size=4, max_length=256, stride=128, shuffle=True, drop_last=True,num_workers=0):\n",
    "\n",
    "    # Initialize the tokenizer\n",
    "    tokenizer = tiktoken.get_encoding(\"gpt2\")\n",
    "\n",
    "    # Create dataset\n",
    "    dataset = GPTDatasetV1(txt, tokenizer, max_length, stride)\n",
    "\n",
    "    # Create dataloader\n",
    "    dataloader = DataLoader(\n",
    "        dataset,\n",
    "        batch_size=batch_size,\n",
    "        shuffle=shuffle,\n",
    "        drop_last=drop_last,\n",
    "        num_workers=num_workers\n",
    "    )\n",
    "\n",
    "    return dataloader\n",
    "\n",
    "max_length = 4\n",
    "dataloader = create_dataloader_v1(\n",
    "    text, batch_size=1, max_length=4, stride=1, shuffle=False\n",
    ")\n",
    "\n",
    "\n",
    "# Note - More overlap could lead to increased overfitting\n",
    "dataloader = create_dataloader_v1(text, batch_size=3, max_length=4, stride=4, shuffle=False)\n",
    "\n",
    "data_iter = iter(dataloader)\n",
    "inputs, targets = next(data_iter)\n",
    "print(\"Inputs:\\n\", inputs)\n",
    "print(\"\\nTargets:\\n\", targets)\n"
   ]
  },
  {
   "cell_type": "markdown",
   "id": "c62e57e9",
   "metadata": {},
   "source": [
    "# 2.7 Creating token embeddings"
   ]
  },
  {
   "cell_type": "code",
   "execution_count": 160,
   "id": "daa578d1",
   "metadata": {},
   "outputs": [
    {
     "name": "stdout",
     "output_type": "stream",
     "text": [
      "Embedding Layer's Weight: \n",
      "  Parameter containing:\n",
      "tensor([[ 7.3013e-01, -6.2206e-02,  1.5696e+00,  ..., -1.5445e-01,\n",
      "          6.1283e-01,  8.4908e-02],\n",
      "        [ 3.7902e-01,  5.7276e-01,  4.8475e-01,  ..., -2.9849e-01,\n",
      "         -4.6095e-01, -3.4968e-01],\n",
      "        [-1.1645e+00, -3.3439e-01,  8.5036e-01,  ...,  4.5088e-02,\n",
      "          4.3319e-01,  1.3975e+00],\n",
      "        ...,\n",
      "        [ 6.3251e-01, -2.4393e-01,  2.6448e-01,  ..., -4.4956e-01,\n",
      "          9.0974e-02,  3.8077e-01],\n",
      "        [ 2.2503e+00, -5.7059e-01,  2.7960e-01,  ...,  1.7222e-01,\n",
      "         -9.5370e-04, -6.5163e-02],\n",
      "        [-1.3264e+00,  4.4279e-01, -1.5576e-01,  ...,  9.7685e-01,\n",
      "          2.6135e-01, -6.0856e-01]], requires_grad=True)\n",
      "Token IDs:\n",
      " tensor([[15496,    11,   466,   345],\n",
      "        [  588,  8887,    30,   220],\n",
      "        [50256,   554,   262,  4252]])\n",
      "\n",
      "Inputs shape: torch.Size([3, 4])\n",
      "Token Embeddings Shape: torch.Size([3, 4, 256])\n"
     ]
    }
   ],
   "source": [
    "output_dim = 256\n",
    "token_embedding_layer = torch.nn.Embedding(tokenizer.n_vocab, output_dim)\n",
    "print(\"Embedding Layer's Weight: \\n \",token_embedding_layer.weight)\n",
    "\n",
    "print(\"Token IDs:\\n\", inputs)\n",
    "print(\"\\nInputs shape:\", inputs.shape)\n",
    "token_embeddings = token_embedding_layer(inputs)\n",
    "print(\"Token Embeddings Shape:\", token_embeddings.shape)\n",
    "\n",
    "# print(\"\\n After Embedding Input Token: \\n\",token_embedding_layer(inputs))"
   ]
  },
  {
   "cell_type": "markdown",
   "id": "0b1bc67e",
   "metadata": {},
   "source": [
    "# 2.8 Encoding word positions\n",
    "* Embedding layer convert IDs into identical vector representations regardless of where they are located in the input sequence\n",
    "* Positional embeddings are combined with the token embedding vector to form the input embeddings for a large language model"
   ]
  },
  {
   "cell_type": "code",
   "execution_count": 161,
   "id": "1c74e055",
   "metadata": {},
   "outputs": [
    {
     "name": "stdout",
     "output_type": "stream",
     "text": [
      "torch.Size([3, 4, 256])\n"
     ]
    }
   ],
   "source": [
    "context_length = max_length\n",
    "pos_embedding_layer = torch.nn.Embedding(context_length, output_dim)\n",
    "pos_embeddings = pos_embedding_layer(torch.arange(max_length))\n",
    "input_embeddings = token_embeddings + pos_embeddings\n",
    "print(input_embeddings.shape)"
   ]
  }
 ],
 "metadata": {
  "kernelspec": {
   "display_name": ".venv",
   "language": "python",
   "name": "python3"
  },
  "language_info": {
   "codemirror_mode": {
    "name": "ipython",
    "version": 3
   },
   "file_extension": ".py",
   "mimetype": "text/x-python",
   "name": "python",
   "nbconvert_exporter": "python",
   "pygments_lexer": "ipython3",
   "version": "3.10.18"
  }
 },
 "nbformat": 4,
 "nbformat_minor": 5
}
