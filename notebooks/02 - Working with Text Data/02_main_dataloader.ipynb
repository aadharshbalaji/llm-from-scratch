{
 "cells": [
  {
   "cell_type": "markdown",
   "id": "8e3f7b35",
   "metadata": {},
   "source": [
    "# The Main Data Loading Pipeline Summarized\n",
    "The data loading pipeline without the intermediate steps."
   ]
  },
  {
   "cell_type": "code",
   "execution_count": 1,
   "id": "a14fea20",
   "metadata": {},
   "outputs": [
    {
     "name": "stdout",
     "output_type": "stream",
     "text": [
      "torch version: 2.2.2\n",
      "tiktoken version: 0.11.0\n"
     ]
    }
   ],
   "source": [
    "from importlib.metadata import version\n",
    "\n",
    "print(\"torch version:\", version(\"torch\"))\n",
    "print(\"tiktoken version:\", version(\"tiktoken\"))"
   ]
  },
  {
   "cell_type": "code",
   "execution_count": 3,
   "id": "0c7a0331",
   "metadata": {},
   "outputs": [
    {
     "name": "stdout",
     "output_type": "stream",
     "text": [
      "Total number of character: 20479\n",
      "I HAD always thought Jack Gisburn rather a cheap genius--though a good fellow enough--so it was no \n"
     ]
    }
   ],
   "source": [
    "import os\n",
    "import urllib.request\n",
    "file_path = \"../../data/the-verdict.txt\"\n",
    "if not os.path.exists(file_path):\n",
    "  url = \"https://raw.githubusercontent.com/rasbt/LLMs-from-scratch/main/ch02/01_main-chapter-code/the-verdict.txt\"\n",
    "  urllib.request.urlretrieve(url, file_path)\n",
    "\n",
    "with open(file_path, \"r\", encoding=\"utf-8\") as f:\n",
    "  raw_text = f.read()  \n",
    "print(\"Total number of character:\", len(raw_text))\n",
    "print(raw_text[:99])"
   ]
  },
  {
   "cell_type": "code",
   "execution_count": 5,
   "id": "9275ce55",
   "metadata": {},
   "outputs": [],
   "source": [
    "import tiktoken\n",
    "import torch\n",
    "from torch.utils.data import Dataset, DataLoader\n",
    "\n",
    "\n",
    "class GPTDatasetV1(Dataset):\n",
    "    def __init__(self, txt, tokenizer, max_length, stride):\n",
    "        self.input_ids = []\n",
    "        self.target_ids = []\n",
    "\n",
    "        # Tokenize the entire text\n",
    "        token_ids = tokenizer.encode(txt, allowed_special={\"<|endoftext|>\"})\n",
    "\n",
    "        # Use a sliding window to chunk the book into overlapping sequences of max_length\n",
    "        for i in range(0, len(token_ids) - max_length, stride):\n",
    "            input_chunk = token_ids[i:i + max_length]\n",
    "            target_chunk = token_ids[i + 1: i + max_length + 1]\n",
    "            self.input_ids.append(torch.tensor(input_chunk))\n",
    "            self.target_ids.append(torch.tensor(target_chunk))\n",
    "\n",
    "    def __len__(self):\n",
    "        return len(self.input_ids)\n",
    "\n",
    "    def __getitem__(self, idx):\n",
    "        return self.input_ids[idx], self.target_ids[idx]\n",
    "\n",
    "\n",
    "def create_dataloader_v1(txt, batch_size, max_length, stride,shuffle=True, drop_last=True, num_workers=0):\n",
    "    tokenizer = tiktoken.get_encoding(\"gpt2\")\n",
    "    dataset = GPTDatasetV1(txt, tokenizer, max_length, stride)\n",
    "    dataloader = DataLoader(\n",
    "        dataset, batch_size=batch_size, shuffle=shuffle, drop_last=drop_last, num_workers=num_workers)\n",
    "\n",
    "    return dataloader\n",
    "\n",
    "\n",
    "with open(file_path, \"r\", encoding=\"utf-8\") as f:\n",
    "    raw_text = f.read()\n",
    "\n",
    "vocab_size = 50257\n",
    "output_dim = 256\n",
    "context_length = 1024\n",
    "\n",
    "\n",
    "token_embedding_layer = torch.nn.Embedding(vocab_size, output_dim)\n",
    "pos_embedding_layer = torch.nn.Embedding(context_length, output_dim)\n",
    "\n",
    "batch_size = 8\n",
    "max_length = 4\n",
    "dataloader = create_dataloader_v1(\n",
    "    raw_text,\n",
    "    batch_size=batch_size,\n",
    "    max_length=max_length,\n",
    "    stride=max_length\n",
    ")"
   ]
  },
  {
   "cell_type": "code",
   "execution_count": 6,
   "id": "daaec737",
   "metadata": {},
   "outputs": [
    {
     "name": "stdout",
     "output_type": "stream",
     "text": [
      "torch.Size([8, 4, 256])\n"
     ]
    }
   ],
   "source": [
    "for batch in dataloader:\n",
    "    x, y = batch\n",
    "    token_embeddings = token_embedding_layer(x)\n",
    "    pos_embeddings = pos_embedding_layer(torch.arange(max_length))\n",
    "    input_embeddings = token_embeddings + pos_embeddings\n",
    "print(input_embeddings.shape)"
   ]
  },
  {
   "cell_type": "code",
   "execution_count": 7,
   "id": "8f3126b7",
   "metadata": {},
   "outputs": [
    {
     "name": "stdout",
     "output_type": "stream",
     "text": [
      "tensor([[[ 1.2495, -1.7590,  0.3354,  ...,  0.0716, -1.0370,  0.4530],\n",
      "         [ 0.6774, -1.2482,  0.2193,  ..., -1.3630, -2.1008, -0.2072],\n",
      "         [-0.0491,  0.8185,  1.4194,  ..., -1.1851,  1.2192,  0.5295],\n",
      "         [ 1.0044, -0.2523,  1.0076,  ...,  0.3774,  0.0793, -1.1029]],\n",
      "\n",
      "        [[ 1.3737,  0.3177,  0.9934,  ...,  1.1267,  0.4131,  1.0237],\n",
      "         [ 1.7872,  0.3709,  0.6397,  ...,  1.4415, -1.3131,  0.1603],\n",
      "         [-0.1593, -2.5614,  1.9587,  ..., -2.4815, -0.3417, -0.4968],\n",
      "         [-1.1420,  0.2221,  2.3220,  ...,  0.7290, -3.6830,  0.7922]],\n",
      "\n",
      "        [[ 0.4895, -3.5707,  1.1923,  ...,  1.1356,  0.9608,  0.6742],\n",
      "         [ 0.0425, -0.3738,  1.2895,  ...,  2.8365,  0.0060,  0.4089],\n",
      "         [-0.2814,  0.2520,  1.4389,  ..., -2.1764,  0.6841,  1.1700],\n",
      "         [ 1.6723,  0.4500, -0.7053,  ...,  1.3974, -2.8092,  0.2660]],\n",
      "\n",
      "        ...,\n",
      "\n",
      "        [[-0.5583, -0.4231,  1.0300,  ...,  0.3199, -0.1897,  0.9261],\n",
      "         [ 0.9241, -0.8884,  1.4612,  ...,  0.7337, -0.6414,  0.6246],\n",
      "         [-0.3773, -1.6795,  1.6016,  ..., -1.5942,  0.5006, -1.1720],\n",
      "         [-1.2677, -1.1852,  1.5491,  ..., -0.0665, -0.4164,  0.4594]],\n",
      "\n",
      "        [[ 0.8718, -0.0480,  0.1693,  ...,  1.8935,  2.2340,  0.7639],\n",
      "         [ 1.5634, -2.9400,  0.4835,  ...,  0.5061, -0.5864,  0.3629],\n",
      "         [ 0.6648, -1.4056,  0.6586,  ..., -0.8215,  0.4424,  0.0707],\n",
      "         [-0.2355,  0.9699,  1.1660,  ...,  1.2508,  0.0832,  1.1403]],\n",
      "\n",
      "        [[ 0.9415, -0.7419,  0.1853,  ...,  1.7144,  0.6562,  0.8337],\n",
      "         [ 1.9001, -0.3149,  0.9302,  ..., -0.4745, -1.0562,  0.8913],\n",
      "         [-0.3019, -0.9952,  0.2018,  ..., -1.9861,  1.5134,  1.4133],\n",
      "         [-0.0090, -3.5753,  1.6086,  ...,  0.5248, -0.5032,  0.0514]]],\n",
      "       grad_fn=<AddBackward0>)\n"
     ]
    }
   ],
   "source": [
    "print(input_embeddings)"
   ]
  }
 ],
 "metadata": {
  "kernelspec": {
   "display_name": ".venv",
   "language": "python",
   "name": "python3"
  },
  "language_info": {
   "codemirror_mode": {
    "name": "ipython",
    "version": 3
   },
   "file_extension": ".py",
   "mimetype": "text/x-python",
   "name": "python",
   "nbconvert_exporter": "python",
   "pygments_lexer": "ipython3",
   "version": "3.10.18"
  }
 },
 "nbformat": 4,
 "nbformat_minor": 5
}
